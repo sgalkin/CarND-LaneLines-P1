{
 "cells": [
  {
   "cell_type": "markdown",
   "metadata": {},
   "source": [
    "# Self-Driving Car Engineer Nanodegree\n",
    "\n",
    "\n",
    "## Project: **Finding Lane Lines on the Road** \n",
    "***\n",
    "In this project, you will use the tools you learned about in the lesson to identify lane lines on the road.  You can develop your pipeline on a series of individual images, and later apply the result to a video stream (really just a series of images). Check out the video clip \"raw-lines-example.mp4\" (also contained in this repository) to see what the output should look like after using the helper functions below. \n",
    "\n",
    "Once you have a result that looks roughly like \"raw-lines-example.mp4\", you'll need to get creative and try to average and/or extrapolate the line segments you've detected to map out the full extent of the lane lines.  You can see an example of the result you're going for in the video \"P1_example.mp4\".  Ultimately, you would like to draw just one line for the left side of the lane, and one for the right.\n",
    "\n",
    "In addition to implementing code, there is a brief writeup to complete. The writeup should be completed in a separate file, which can be either a markdown file or a pdf document. There is a [write up template](https://github.com/udacity/CarND-LaneLines-P1/blob/master/writeup_template.md) that can be used to guide the writing process. Completing both the code in the Ipython notebook and the writeup template will cover all of the [rubric points](https://review.udacity.com/#!/rubrics/322/view) for this project.\n",
    "\n",
    "---\n",
    "Let's have a look at our first image called 'test_images/solidWhiteRight.jpg'.  Run the 2 cells below (hit Shift-Enter or the \"play\" button above) to display the image.\n",
    "\n",
    "**Note: If, at any point, you encounter frozen display windows or other confounding issues, you can always start again with a clean slate by going to the \"Kernel\" menu above and selecting \"Restart & Clear Output\".**\n",
    "\n",
    "---"
   ]
  },
  {
   "cell_type": "markdown",
   "metadata": {},
   "source": [
    "**The tools you have are color selection, region of interest selection, grayscaling, Gaussian smoothing, Canny Edge Detection and Hough Tranform line detection.  You  are also free to explore and try other techniques that were not presented in the lesson.  Your goal is piece together a pipeline to detect the line segments in the image, then average/extrapolate them and draw them onto the image for display (as below).  Once you have a working pipeline, try it out on the video stream below.**\n",
    "\n",
    "---\n",
    "\n",
    "<figure>\n",
    " <img src=\"examples/line-segments-example.jpg\" width=\"380\" alt=\"Combined Image\" />\n",
    " <figcaption>\n",
    " <p></p> \n",
    " <p style=\"text-align: center;\"> Your output should look something like this (above) after detecting line segments using the helper functions below </p> \n",
    " </figcaption>\n",
    "</figure>\n",
    " <p></p> \n",
    "<figure>\n",
    " <img src=\"examples/laneLines_thirdPass.jpg\" width=\"380\" alt=\"Combined Image\" />\n",
    " <figcaption>\n",
    " <p></p> \n",
    " <p style=\"text-align: center;\"> Your goal is to connect/average/extrapolate line segments to get output like this</p> \n",
    " </figcaption>\n",
    "</figure>"
   ]
  },
  {
   "cell_type": "markdown",
   "metadata": {},
   "source": [
    "**Run the cell below to import some packages.  If you get an `import error` for a package you've already installed, try changing your kernel (select the Kernel menu above --> Change Kernel).  Still have problems?  Try relaunching Jupyter Notebook from the terminal prompt.  Also, consult the forums for more troubleshooting tips.**  "
   ]
  },
  {
   "cell_type": "markdown",
   "metadata": {},
   "source": [
    "## Import Packages"
   ]
  },
  {
   "cell_type": "code",
   "execution_count": null,
   "metadata": {
    "collapsed": true
   },
   "outputs": [],
   "source": [
    "#importing some useful packages\n",
    "import matplotlib.pyplot as plt\n",
    "import matplotlib.image as mpimg\n",
    "import numpy as np\n",
    "import cv2\n",
    "%matplotlib inline"
   ]
  },
  {
   "cell_type": "markdown",
   "metadata": {},
   "source": [
    "## Read in an Image"
   ]
  },
  {
   "cell_type": "code",
   "execution_count": null,
   "metadata": {},
   "outputs": [],
   "source": [
    "#reading in an image\n",
    "image = mpimg.imread('test_images/solidWhiteRight.jpg')\n",
    "\n",
    "#printing out some stats and plotting\n",
    "print('This image is:', type(image), 'with dimensions:', image.shape)\n",
    "plt.imshow(image)  # if you wanted to show a single color channel image called 'gray', for example, call as plt.imshow(gray, cmap='gray')"
   ]
  },
  {
   "cell_type": "markdown",
   "metadata": {},
   "source": [
    "## Ideas for Lane Detection Pipeline"
   ]
  },
  {
   "cell_type": "markdown",
   "metadata": {},
   "source": [
    "**Some OpenCV functions (beyond those introduced in the lesson) that might be useful for this project are:**\n",
    "\n",
    "`cv2.inRange()` for color selection  \n",
    "`cv2.fillPoly()` for regions selection  \n",
    "`cv2.line()` to draw lines on an image given endpoints  \n",
    "`cv2.addWeighted()` to coadd / overlay two images\n",
    "`cv2.cvtColor()` to grayscale or change color\n",
    "`cv2.imwrite()` to output images to file  \n",
    "`cv2.bitwise_and()` to apply a mask to an image\n",
    "\n",
    "**Check out the OpenCV documentation to learn about these and discover even more awesome functionality!**"
   ]
  },
  {
   "cell_type": "markdown",
   "metadata": {},
   "source": [
    "## Helper Functions"
   ]
  },
  {
   "cell_type": "markdown",
   "metadata": {},
   "source": [
    "Below are some helper functions to help get you started. They should look familiar from the lesson!"
   ]
  },
  {
   "cell_type": "code",
   "execution_count": null,
   "metadata": {
    "collapsed": true
   },
   "outputs": [],
   "source": [
    "def grayscale(img, weights=np.array([0.299, 0.587, 0.114])):\n",
    "    \"\"\"\n",
    "    Applies the Grayscale transform\n",
    "    This will return an image with only one color channel\n",
    "    but NOTE: to see the returned image as grayscale\n",
    "    (assuming your grayscaled image is called 'gray')\n",
    "    you should call plt.imshow(gray, cmap='gray')\n",
    "    \"\"\"\n",
    "    return np.uint8(np.average(img, weights=weights, axis=2))\n",
    "    # return cv2.cvtColor(img, cv2.COLOR_RGB2GRAY)\n",
    "    # Or use BGR2GRAY if you read an image with cv2.imread()\n",
    "    # return cv2.cvtColor(img, cv2.COLOR_BGR2GRAY)\n",
    "    \n",
    "def canny(img, low_threshold, high_threshold):\n",
    "    \"\"\"Applies the Canny transform\"\"\"\n",
    "    return cv2.Canny(img, low_threshold, high_threshold)\n",
    "\n",
    "def gaussian_blur(img, kernel_size):\n",
    "    \"\"\"Applies a Gaussian Noise kernel\"\"\"\n",
    "    return cv2.GaussianBlur(img, (kernel_size, kernel_size), 0)\n",
    "\n",
    "def region_of_interest(img, vertices):\n",
    "    \"\"\"\n",
    "    Applies an image mask.\n",
    "    \n",
    "    Only keeps the region of the image defined by the polygon\n",
    "    formed from `vertices`. The rest of the image is set to black.\n",
    "    \"\"\"\n",
    "    #defining a blank mask to start with\n",
    "    mask = np.zeros_like(img)   \n",
    "    \n",
    "    #defining a 3 channel or 1 channel color to fill the mask with depending on the input image\n",
    "    if len(img.shape) > 2:\n",
    "        channel_count = img.shape[2]  # i.e. 3 or 4 depending on your image\n",
    "        ignore_mask_color = (255,) * channel_count\n",
    "    else:\n",
    "        ignore_mask_color = 255\n",
    "        \n",
    "    #filling pixels inside the polygon defined by \"vertices\" with the fill color    \n",
    "    cv2.fillPoly(mask, vertices, ignore_mask_color)\n",
    "    \n",
    "    #returning the image only where mask pixels are nonzero\n",
    "    masked_image = cv2.bitwise_and(img, mask)\n",
    "    return masked_image\n",
    "\n",
    "def draw_lines(img, lines, color=[255, 0, 0], thickness=2):\n",
    "    \"\"\"\n",
    "    NOTE: this is the function you might want to use as a starting point once you want to\n",
    "    average/extrapolate the line segments you detect to map out the full\n",
    "    extent of the lane (going from the result shown in raw-lines-example.mp4\n",
    "    to that shown in P1_example.mp4).\n",
    "\n",
    "    Think about things like separating line segments by their\n",
    "    slope ((y2-y1)/(x2-x1)) to decide which segments are part of the left\n",
    "    line vs. the right line.  Then, you can average the position of each of\n",
    "    the lines and extrapolate to the top and bottom of the lane.\n",
    "\n",
    "    This function draws `lines` with `color` and `thickness`.\n",
    "    Lines are drawn on the image inplace (mutates the image).\n",
    "    If you want to make the lines semi-transparent, think about combining\n",
    "    this function with the weighted_img() function below\n",
    "    \"\"\"\n",
    "    if lines is None:\n",
    "        return img\n",
    "\n",
    "    for line in lines:\n",
    "        for x1,y1,x2,y2 in line:\n",
    "            cv2.line(img, (x1, y1), (x2, y2), color, thickness)\n",
    "\n",
    "def find_hough_lines(img, rho, theta, threshold, min_line_len, max_line_gap):\n",
    "    \"\"\"\n",
    "    `img` should be the output of a Canny transform.\n",
    "    Retunrs list of hough lines\n",
    "    \"\"\"\n",
    "    return cv2.HoughLinesP(img, rho, theta, threshold, np.array([]), \n",
    "                           minLineLength=min_line_len, \n",
    "                           maxLineGap=max_line_gap)\n",
    "    \n",
    "def draw_hough_lines(img, lines, thickness):\n",
    "    \"\"\"\n",
    "    Returns an image with hough lines drawn.\n",
    "    \"\"\"\n",
    "    line_img = np.zeros((img.shape[0], img.shape[1], 3), dtype=np.uint8)\n",
    "    draw_lines(line_img, lines, thickness=2)\n",
    "    return line_img\n",
    "\n",
    "# Python 3 has support for cool math symbols.\n",
    "\n",
    "def weighted_img(img, initial_img, α=0.8, β=1., λ=0.):\n",
    "    \"\"\"\n",
    "    `img` is the output of the hough_lines(), An image with lines drawn on it.\n",
    "    Should be a blank image (all black) with lines drawn on it.\n",
    "    \n",
    "    `initial_img` should be the image before any processing.\n",
    "    \n",
    "    The result image is computed as follows:\n",
    "    \n",
    "    initial_img * α + img * β + λ\n",
    "    NOTE: initial_img and img must be the same shape!\n",
    "    \"\"\"\n",
    "    return cv2.addWeighted(initial_img, α, img, β, λ)"
   ]
  },
  {
   "cell_type": "markdown",
   "metadata": {},
   "source": [
    "## Test Images\n",
    "\n",
    "Build your pipeline to work on the images in the directory \"test_images\"  \n",
    "**You should make sure your pipeline works well on these images before you try the videos.**"
   ]
  },
  {
   "cell_type": "code",
   "execution_count": null,
   "metadata": {},
   "outputs": [],
   "source": [
    "import os\n",
    "os.listdir(\"test_images/\")"
   ]
  },
  {
   "cell_type": "markdown",
   "metadata": {},
   "source": [
    "## Build a Lane Finding Pipeline\n",
    "\n"
   ]
  },
  {
   "cell_type": "markdown",
   "metadata": {},
   "source": [
    "Build the pipeline and run your solution on all test_images. Make copies into the `test_images_output` directory, and you can use the images in your writeup report.\n",
    "\n",
    "Try tuning the various parameters, especially the low and high Canny thresholds as well as the Hough lines parameters."
   ]
  },
  {
   "cell_type": "code",
   "execution_count": null,
   "metadata": {
    "collapsed": true
   },
   "outputs": [],
   "source": [
    "\"\"\"\n",
    "Helper function to calculate slopes\n",
    "\"\"\"\n",
    "def slope(x1, y1, x2, y2):\n",
    "    return float('Inf') if x2 - x1 == 0 else (y2 - y1) / (x2 - x1)\n",
    "\n",
    "\"\"\"\n",
    "Helper function to calculate second point for the line with given slope\n",
    "\"\"\"\n",
    "def line(x0, y0, slope, y):\n",
    "    return int((y - y0) / slope + x0)"
   ]
  },
  {
   "cell_type": "code",
   "execution_count": null,
   "metadata": {
    "collapsed": true
   },
   "outputs": [],
   "source": [
    "\"\"\"Helper classes to dump images during process\"\"\"\n",
    "class DummyDumper:\n",
    "    def dump(self, image, stage):\n",
    "        pass\n",
    "    \n",
    "class FileDumper:\n",
    "    def __init__(self, name, destination):\n",
    "        self._name, self._ext = os.path.splitext(os.path.basename(name))\n",
    "        self._destination = destination\n",
    "        os.makedirs(self._destination, exist_ok=True)\n",
    "        \n",
    "    def dump(self, image, stage):\n",
    "        path = os.path.join(self._destination, self._name + \".\" + stage + self._ext)\n",
    "        cv2.imwrite(path, image)"
   ]
  },
  {
   "cell_type": "code",
   "execution_count": null,
   "metadata": {
    "collapsed": true
   },
   "outputs": [],
   "source": [
    "\"\"\"\n",
    "Helper class for smooth lane updates\n",
    "\"\"\"\n",
    "class Averager:\n",
    "    def __init__(self, shape, step):\n",
    "        self._shape = shape\n",
    "        self._step = step\n",
    "        self._bottom = None # x,y coordinate\n",
    "        self._top = None # x,y coordinate\n",
    "        \n",
    "    def update(self, top, slope):\n",
    "        if top is None or slope is None:\n",
    "            return\n",
    "        \n",
    "        new_top = np.array(top, dtype=np.int64)\n",
    "        new_bottom = np.array(\n",
    "            (max(0, min(self._shape[0], line(*top, slope, self._shape[1]))), self._shape[1]), \n",
    "            dtype=np.int64)\n",
    "        \n",
    "        if self._bottom is None or self._top is None:\n",
    "            self._top = new_top\n",
    "            self._bottom = new_bottom\n",
    "        else:\n",
    "            self._top += np.int64((new_top - self._top) * self._step)\n",
    "            self._bottom += np.int64((new_bottom - self._bottom) * self._step)\n",
    "        \n",
    "    def propose(self):\n",
    "        return (self._bottom, self._top)\n",
    "\n"
   ]
  },
  {
   "cell_type": "code",
   "execution_count": null,
   "metadata": {
    "collapsed": true
   },
   "outputs": [],
   "source": [
    "\"\"\"Calculate region of interest\"\"\"\n",
    "def roi(image, outer_base, inner_base, center, top, bottom):\n",
    "    \n",
    "    def roi_width(base, top, center):\n",
    "        return ((1. - 2 * base * (top - center)) / 2., (1. - base) / 2.)\n",
    "    \n",
    "    def roi_shape(shape, top, bottom, o_top, o_bottom, i_top, i_bottom):\n",
    "        outer_top = shape[1] * o_top\n",
    "        inner_top = shape[1] * i_top\n",
    "        top = shape[0] * top\n",
    "        outer_bottom = shape[1] * o_bottom\n",
    "        inner_bottom = shape[1] * i_bottom\n",
    "        bottom = shape[0] * bottom \n",
    "        \n",
    "        return np.array([[outer_bottom, bottom], \n",
    "                         [outer_top, top], \n",
    "                         [inner_top, top], \n",
    "                         [inner_bottom, bottom]],\n",
    "                        dtype=np.int32)\n",
    "    \n",
    "    def roi_slope(shape):\n",
    "        return sorted([slope(shape[0,0], shape[0,1], shape[1, 0], shape[1,1]),\n",
    "                       slope(shape[2,0], shape[2,1], shape[3, 0], shape[3,1])])\n",
    "    \n",
    "    outer_top, outer_bottom = roi_width(outer_base, top, center)\n",
    "    inner_top, inner_bottom = roi_width(inner_base, top, center)\n",
    "\n",
    "    roi_left = roi_shape(image.shape, top, bottom, outer_top, outer_bottom, inner_top, inner_bottom)\n",
    "    roi_left_slope = roi_slope(roi_left)\n",
    "    roi_left_image = region_of_interest(image, [roi_left])\n",
    "\n",
    "    roi_right = roi_shape(image.shape, top, bottom, 1-outer_top, 1-outer_bottom, 1-inner_top, 1-inner_bottom)\n",
    "    roi_right_slope = roi_slope(roi_right)\n",
    "    roi_right_image = region_of_interest(image, [roi_right])\n",
    "    \n",
    "    return (cv2.bitwise_or(roi_left_image, roi_right_image), \n",
    "            np.array([roi_left_slope, roi_right_slope]))"
   ]
  },
  {
   "cell_type": "code",
   "execution_count": null,
   "metadata": {
    "collapsed": true
   },
   "outputs": [],
   "source": [
    "def analyze_hough_lines(img, lines, slopes):\n",
    "    def split_hough_lines(img, lines, slopes):\n",
    "        left = []\n",
    "        right = []\n",
    "        for line in lines:\n",
    "            for x1, y1, x2, y2 in line:\n",
    "                s = slope(x1, y1, x2, y2)\n",
    "                # segments extra filtering (belogns to the right half of the image and in right direction)\n",
    "                if all((s * a < 0 or s < a or s > b for (a, b) in slopes)): continue\n",
    "                if s >= 0 and min(x1, x2) < img.shape[1] / 2: continue\n",
    "                if s < 0 and max(x1, x2) > img.shape[1] / 2: continue\n",
    "                # sorting out which lane we're processing now\n",
    "                right.append((x1,y1,x2,y2,s)) if s >= 0 else left.append((x1,y1,x2,y2,s))\n",
    "                #cv2.line(img,(x1,y1),(x2,y2),[128,128,0] if s >=0 else [128,0,128], 2)\n",
    "        return np.array(left), np.array(right)\n",
    "    \n",
    "    def mean_line(lines):\n",
    "        if lines is None or len(lines) == 0:\n",
    "            return ((None, None), None)\n",
    "        \n",
    "        m = np.mean(lines[:,4])\n",
    "        # searching for a segement with approximately same slope as median\n",
    "        argmin = np.argmin(np.power(lines[:,4] - m, 2))\n",
    "        # taking the middle of the segment\n",
    "        x = (lines[argmin,0] + lines[argmin, 2]) / 2.\n",
    "        y = (lines[argmin,1] + lines[argmin, 3]) / 2.\n",
    "        # searching for highest y value\n",
    "        argmin = np.argmin(lines, axis=0)\n",
    "        argidx = 1 if lines[argmin[1], 1] < lines[argmin[3], 3] else 3\n",
    "        miny = lines[argmin[argidx], argidx]\n",
    "        # evaluate x coordinate for highest y value using x, y and slope for the best line\n",
    "        minx = line(x, y, m, miny)\n",
    "        return ((minx, miny), m)\n",
    "    \n",
    "    if lines is None:\n",
    "        return ((None, None), (None, None))\n",
    "    \n",
    "    left, right = split_hough_lines(img, lines, slopes)\n",
    "    return (mean_line(left), mean_line(right))"
   ]
  },
  {
   "cell_type": "code",
   "execution_count": null,
   "metadata": {
    "collapsed": true
   },
   "outputs": [],
   "source": [
    "def pipeline(image, left_control, right_control, dumper=DummyDumper()):\n",
    "\n",
    "    weights = np.array([1.25, 0.25, -0.5]) #0.7, 0.7, -0.4 #1.4 0.5 -1\n",
    "    gray_image = grayscale(image, weights)\n",
    "    dumper.dump(gray_image, \"gray\")\n",
    "    \n",
    "    blur_image = gaussian_blur(gray_image, 7)\n",
    "    dumper.dump(blur_image, \"blur\")\n",
    "        \n",
    "    canny_low = 120 #120 #300\n",
    "    canny_high = 350 #350 #600\n",
    "    canny_image = canny(gray_image, canny_low, canny_high)\n",
    "    dumper.dump(canny_image, \"canny\")\n",
    "    \n",
    "    roi_outer_base = 0.97 #0.98 # fraction of width\n",
    "    roi_inner_base = 0.33 #0.28 # fraction of width\n",
    "    roi_center = 0.556 #0.558 # vertical perspective center\n",
    "    roi_height = 0.608 #0.558 # fraction of height\n",
    "    roi_bottom = 0.93\n",
    "    canny_roi_image, slopes = roi(canny_image, roi_outer_base, roi_inner_base, roi_center, roi_height, roi_bottom)\n",
    "    dumper.dump(canny_roi_image, \"roi\")\n",
    "    \n",
    "    rho = 2\n",
    "    theta = math.pi / 180\n",
    "    threshold = 25\n",
    "    min_line_len = 30\n",
    "    max_line_gap = 30\n",
    "    hough_lines = find_hough_lines(canny_roi_image, rho, theta, threshold, min_line_len, max_line_gap)\n",
    "    #hough_image = draw_hough_lines(canny_roi_image, hough_lines, thickness=1)\n",
    "    #dumper.dump(hough_image, \"hough\")\n",
    "    \n",
    "    (ltop, lslope), (rtop, rslope) = analyze_hough_lines(canny_roi_image, hough_lines, slopes)\n",
    "        \n",
    "    left_control.update(ltop, lslope)\n",
    "    right_control.update(rtop, rslope)\n",
    "\n",
    "    lanes_image = np.zeros((image.shape[0], image.shape[1], 3), dtype=np.uint8)\n",
    "    (x0,y0),(x1,y1) = left_control.propose()\n",
    "    cv2.line(lanes_image, (x0,y0), (x1, y1), [255,0,0], 4)\n",
    "\n",
    "    (x0,y0),(x1,y1) = right_control.propose()\n",
    "    cv2.line(lanes_image, (x0,y0), (x1, y1), [255,0,0], 4)\n",
    "    dumper.dump(lanes_image, \"lanes\")\n",
    "\n",
    "    return weighted_img(lanes_image, image, α=0.9, β=1., λ=0.)"
   ]
  },
  {
   "cell_type": "code",
   "execution_count": null,
   "metadata": {
    "collapsed": true
   },
   "outputs": [],
   "source": [
    "import glob\n",
    "\n",
    "source = \"test_images/\"\n",
    "for f in glob.glob(source + \"*.jpg\"):\n",
    "    img = mpimg.imread(f)\n",
    "    left = Averager((img.shape[1],img.shape[0]), 1)\n",
    "    right = Averager((img.shape[1],img.shape[0]), 1)\n",
    "    dumper = FileDumper(f, \"test_images_output\")\n",
    "    \n",
    "    pipeline(img, left, right, dumper)"
   ]
  },
  {
   "cell_type": "markdown",
   "metadata": {},
   "source": [
    "## Test on Videos\n",
    "\n",
    "You know what's cooler than drawing lanes over images? Drawing lanes over video!\n",
    "\n",
    "We can test our solution on two provided videos:\n",
    "\n",
    "`solidWhiteRight.mp4`\n",
    "\n",
    "`solidYellowLeft.mp4`\n",
    "\n",
    "**Note: if you get an import error when you run the next cell, try changing your kernel (select the Kernel menu above --> Change Kernel). Still have problems? Try relaunching Jupyter Notebook from the terminal prompt. Also, consult the forums for more troubleshooting tips.**\n",
    "\n",
    "**If you get an error that looks like this:**\n",
    "```\n",
    "NeedDownloadError: Need ffmpeg exe. \n",
    "You can download it by calling: \n",
    "imageio.plugins.ffmpeg.download()\n",
    "```\n",
    "**Follow the instructions in the error message and check out [this forum post](https://discussions.udacity.com/t/project-error-of-test-on-videos/274082) for more troubleshooting tips across operating systems.**"
   ]
  },
  {
   "cell_type": "code",
   "execution_count": null,
   "metadata": {
    "collapsed": true
   },
   "outputs": [],
   "source": [
    "# Import everything needed to edit/save/watch video clips\n",
    "from moviepy.editor import VideoFileClip\n",
    "from IPython.display import HTML"
   ]
  },
  {
   "cell_type": "code",
   "execution_count": null,
   "metadata": {
    "collapsed": true
   },
   "outputs": [],
   "source": [
    "\"\"\"Helper class to pass Averager into imagre processing chain\"\"\"\n",
    "class ImageProcessor:\n",
    "    def __init__(self, shape, step = 1./7):\n",
    "        self._step = step\n",
    "        self._left = Averager(shape, step)\n",
    "        self._right = Averager(shape, step)\n",
    "        \n",
    "    def process_image(self, image):\n",
    "        return pipeline(image, self._left, self._right)"
   ]
  },
  {
   "cell_type": "markdown",
   "metadata": {},
   "source": [
    "Let's try the one with the solid white lane on the right first ..."
   ]
  },
  {
   "cell_type": "markdown",
   "metadata": {},
   "source": [
    "Play the video inline, or if you prefer find the video in your filesystem (should be in the same directory) and play it in your video player of choice."
   ]
  },
  {
   "cell_type": "code",
   "execution_count": null,
   "metadata": {},
   "outputs": [],
   "source": [
    "white_output = 'test_videos_output/solidWhiteRight.mp4'\n",
    "## To speed up the testing process you may want to try your pipeline on a shorter subclip of the video\n",
    "## To do so add .subclip(start_second,end_second) to the end of the line below\n",
    "## Where start_second and end_second are integer values representing the start and end of the subclip\n",
    "## You may also uncomment the following line for a subclip of the first 5 seconds\n",
    "##clip1 = VideoFileClip(\"test_videos/solidWhiteRight.mp4\").subclip(0,5)\n",
    "clip1 = VideoFileClip(\"test_videos/solidWhiteRight.mp4\")\n",
    "ip = ImageProcessor(clip1.size)\n",
    "white_clip = clip1.fl_image(ip.process_image) #NOTE: this function expects color images!!\n",
    "%time white_clip.write_videofile(white_output, audio=False)"
   ]
  },
  {
   "cell_type": "code",
   "execution_count": null,
   "metadata": {},
   "outputs": [],
   "source": [
    "HTML(\"\"\"\n",
    "<video width=\"960\" height=\"540\" controls>\n",
    "  <source src=\"{0}\">\n",
    "</video>\n",
    "\"\"\".format(white_output))"
   ]
  },
  {
   "cell_type": "markdown",
   "metadata": {},
   "source": [
    "## Improve the draw_lines() function\n",
    "\n",
    "**At this point, if you were successful with making the pipeline and tuning parameters, you probably have the Hough line segments drawn onto the road, but what about identifying the full extent of the lane and marking it clearly as in the example video (P1_example.mp4)?  Think about defining a line to run the full length of the visible lane based on the line segments you identified with the Hough Transform. As mentioned previously, try to average and/or extrapolate the line segments you've detected to map out the full extent of the lane lines. You can see an example of the result you're going for in the video \"P1_example.mp4\".**\n",
    "\n",
    "**Go back and modify your draw_lines function accordingly and try re-running your pipeline. The new output should draw a single, solid line over the left lane line and a single, solid line over the right lane line. The lines should start from the bottom of the image and extend out to the top of the region of interest.**"
   ]
  },
  {
   "cell_type": "markdown",
   "metadata": {},
   "source": [
    "Now for the one with the solid yellow lane on the left. This one's more tricky!"
   ]
  },
  {
   "cell_type": "code",
   "execution_count": null,
   "metadata": {},
   "outputs": [],
   "source": [
    "yellow_output = 'test_videos_output/solidYellowLeft.mp4'\n",
    "## To speed up the testing process you may want to try your pipeline on a shorter subclip of the video\n",
    "## To do so add .subclip(start_second,end_second) to the end of the line below\n",
    "## Where start_second and end_second are integer values representing the start and end of the subclip\n",
    "## You may also uncomment the following line for a subclip of the first 5 seconds\n",
    "##clip2 = VideoFileClip('test_videos/solidYellowLeft.mp4').subclip(0,5)\n",
    "clip2 = VideoFileClip('test_videos/solidYellowLeft.mp4')\n",
    "ip = ImageProcessor(clip2.size)\n",
    "yellow_clip = clip2.fl_image(ip.process_image)\n",
    "%time yellow_clip.write_videofile(yellow_output, audio=False)"
   ]
  },
  {
   "cell_type": "code",
   "execution_count": null,
   "metadata": {},
   "outputs": [],
   "source": [
    "HTML(\"\"\"\n",
    "<video width=\"960\" height=\"540\" controls>\n",
    "  <source src=\"{0}\" type=\"video/mp4\">\n",
    "</video>\n",
    "\"\"\".format(yellow_output))"
   ]
  },
  {
   "cell_type": "markdown",
   "metadata": {},
   "source": [
    "## Writeup and Submission\n",
    "\n",
    "If you're satisfied with your video outputs, it's time to make the report writeup in a pdf or markdown file. Once you have this Ipython notebook ready along with the writeup, it's time to submit for review! Here is a [link](https://github.com/udacity/CarND-LaneLines-P1/blob/master/writeup_template.md) to the writeup template file.\n"
   ]
  },
  {
   "cell_type": "markdown",
   "metadata": {
    "collapsed": true
   },
   "source": [
    "## Optional Challenge\n",
    "\n",
    "Try your lane finding pipeline on the video below.  Does it still work?  Can you figure out a way to make it more robust?  If you're up for the challenge, modify your pipeline so it works with this video and submit it along with the rest of your project!"
   ]
  },
  {
   "cell_type": "code",
   "execution_count": null,
   "metadata": {},
   "outputs": [],
   "source": [
    "challenge_output = 'test_videos_output/challenge.mp4'\n",
    "## To speed up the testing process you may want to try your pipeline on a shorter subclip of the video\n",
    "## To do so add .subclip(start_second,end_second) to the end of the line below\n",
    "## Where start_second and end_second are integer values representing the start and end of the subclip\n",
    "## You may also uncomment the following line for a subclip of the first 5 seconds\n",
    "##clip3 = VideoFileClip('test_videos/challenge.mp4').subclip(0,5)\n",
    "clip3 = VideoFileClip('test_videos/challenge.mp4')\n",
    "ip = ImageProcessor(clip3.size)\n",
    "challenge_clip = clip3.fl_image(ip.process_image)\n",
    "%time challenge_clip.write_videofile(challenge_output, audio=False)"
   ]
  },
  {
   "cell_type": "code",
   "execution_count": null,
   "metadata": {},
   "outputs": [],
   "source": [
    "HTML(\"\"\"\n",
    "<video width=\"960\" height=\"540\" controls>\n",
    "  <source src=\"{0}\">\n",
    "</video>\n",
    "\"\"\".format(challenge_output))"
   ]
  }
 ],
 "metadata": {
  "anaconda-cloud": {},
  "kernelspec": {
   "display_name": "Python 3",
   "language": "python",
   "name": "python3"
  },
  "language_info": {
   "codemirror_mode": {
    "name": "ipython",
    "version": 3
   },
   "file_extension": ".py",
   "mimetype": "text/x-python",
   "name": "python",
   "nbconvert_exporter": "python",
   "pygments_lexer": "ipython3",
   "version": "3.5.2"
  },
  "widgets": {
   "state": {},
   "version": "1.1.2"
  }
 },
 "nbformat": 4,
 "nbformat_minor": 1
}
